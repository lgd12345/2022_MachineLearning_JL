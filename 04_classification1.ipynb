{
 "cells": [
  {
   "cell_type": "code",
   "execution_count": 1,
   "id": "4380a2f2-ed9b-48ac-8ac9-698cf0badd0c",
   "metadata": {},
   "outputs": [],
   "source": [
    "import numpy as np"
   ]
  },
  {
   "cell_type": "code",
   "execution_count": 2,
   "id": "c59940e3-38be-4561-b376-273a99de4ea8",
   "metadata": {},
   "outputs": [
    {
     "name": "stdout",
     "output_type": "stream",
     "text": [
      "[[ 2]\n",
      " [ 4]\n",
      " [ 6]\n",
      " [ 8]\n",
      " [10]\n",
      " [12]\n",
      " [14]\n",
      " [16]\n",
      " [18]\n",
      " [20]]\n",
      "[[0]\n",
      " [0]\n",
      " [0]\n",
      " [0]\n",
      " [0]\n",
      " [0]\n",
      " [1]\n",
      " [1]\n",
      " [1]\n",
      " [1]]\n"
     ]
    }
   ],
   "source": [
    "x_data = np.array([2,4,6,8,10,12,14,16,18,20]).reshape(10,1)\n",
    "t_data = np.array([0,0,0,0,0,0,1,1,1,1]).reshape(10,1)\n",
    "\n",
    "print(x_data)\n",
    "print(t_data)"
   ]
  },
  {
   "cell_type": "code",
   "execution_count": 3,
   "id": "1beb9375-3332-4e0a-a739-7b87cd2cb2d7",
   "metadata": {},
   "outputs": [
    {
     "name": "stdout",
     "output_type": "stream",
     "text": [
      "w=  [[0.87674654]] w.shape=  (1, 1) b=  [0.9730608] b.shape=  (1,)\n"
     ]
    }
   ],
   "source": [
    "w = np.random.rand(1,1)\n",
    "b = np.random.rand(1)\n",
    "print(\"w= \",w,\"w.shape= \",w.shape,\"b= \",b,\"b.shape= \",b.shape)"
   ]
  },
  {
   "cell_type": "code",
   "execution_count": 4,
   "id": "b92249aa-a200-4e19-8292-e0c77d9cc216",
   "metadata": {},
   "outputs": [],
   "source": [
    "def sigmoid(x):\n",
    "    return 1/(1+np.exp(-x))"
   ]
  },
  {
   "cell_type": "code",
   "execution_count": 5,
   "id": "98fd2af8-1ac5-41ee-8b6d-597325be8d4f",
   "metadata": {},
   "outputs": [],
   "source": [
    "def loss_func(x, t):\n",
    "    delta = 1e-7 #log 무한대 발산 방지\n",
    "    \n",
    "    z=np.dot(x,w) + b\n",
    "    y=sigmoid(z)\n",
    "    \n",
    "    #cross-entropy\n",
    "    return -np.sum(t*np.log(y+delta)+(1-t)*np.log((1-y)+delta))"
   ]
  },
  {
   "cell_type": "code",
   "execution_count": 6,
   "id": "f08fbe9d-3e00-49bb-9ac3-cce04ad378ab",
   "metadata": {},
   "outputs": [],
   "source": [
    "def numerical_derivative(f, x): # 수치미분 debug version # Ctrl + A 모두 선택\n",
    "    delta_x = 1e-4 \n",
    "    grad = np.zeros_like(x)\n",
    "    \n",
    "#     print(\"debug 1. initial input variable =\", x)\n",
    "#     print(\"debug 2. initial input grad =\", grad)\n",
    "#     print(\"================================== =\")\n",
    "    \n",
    "    it = np.nditer(x, flags=['multi_index'], op_flags=['readwrite'])\n",
    "    while not it.finished:\n",
    "        idx=it.multi_index\n",
    "        \n",
    "#         print(\"debug 3, idx=\",idx,\",x[idx]=\",x[idx])\n",
    "        \n",
    "        tmp_val = x[idx]\n",
    "        x[idx]=float(tmp_val)+delta_x\n",
    "        fx1=f(x) #f(x+delta_x)\n",
    "        \n",
    "        x[idx] = tmp_val - delta_x\n",
    "        fx2 = f(x) # f(x-delta_x)\n",
    "        grad[idx]=(fx1-fx2)/(2*delta_x)\n",
    "        \n",
    "#         print(\"debug 4. grad[idx] =\",grad[idx])\n",
    "#         print(\"debug 5. grad = \", grad)\n",
    "#         print(\"=================================\")\n",
    "        \n",
    "        x[idx] = tmp_val\n",
    "        it.iternext() \n",
    "    return grad"
   ]
  },
  {
   "cell_type": "code",
   "execution_count": 7,
   "id": "728be430-3a58-433b-a9ca-3f34f8228f06",
   "metadata": {},
   "outputs": [],
   "source": [
    "def predict(x):\n",
    "    z=np.dot(x,w) + b\n",
    "    y=sigmoid(z)\n",
    "    \n",
    "    if y>0.5:\n",
    "        result=1 #true\n",
    "    else:\n",
    "        result=0 #False\n",
    "    return y,result"
   ]
  },
  {
   "cell_type": "code",
   "execution_count": 13,
   "id": "faa4c571-6bea-42e6-a699-cc3016f4d4b8",
   "metadata": {},
   "outputs": [
    {
     "name": "stdout",
     "output_type": "stream",
     "text": [
      "Initial error value: 0.34666146679700816 Initail w= [[1.70800458]] Initali b= [-22.10696563]\n",
      "step 0 error value= 0.3466544296301648 w= [[1.70802491]] b= [-22.10723048]\n",
      "step 400 error value= 0.3438644170779777 w= [[1.71612047]] b= [-22.21270329]\n",
      "step 800 error value= 0.341123029327977 w= [[1.72414534]] b= [-22.31725204]\n",
      "step 1200 error value= 0.3384288735728379 w= [[1.73210094]] b= [-22.42089535]\n",
      "step 1600 error value= 0.3357806141046681 w= [[1.73998864]] b= [-22.52365119]\n",
      "step 2000 error value= 0.33317696925723395 w= [[1.74780977]] b= [-22.62553696]\n",
      "step 2400 error value= 0.33061670854951286 w= [[1.7555656]] b= [-22.72656948]\n",
      "step 2800 error value= 0.3280986500146136 w= [[1.76325739]] b= [-22.82676504]\n",
      "step 3200 error value= 0.3256216577002319 w= [[1.77088633]] b= [-22.92613942]\n",
      "step 3600 error value= 0.3231846393273062 w= [[1.77845359]] b= [-23.02470791]\n",
      "step 4000 error value= 0.3207865440952409 w= [[1.7859603]] b= [-23.12248532]\n",
      "step 4400 error value= 0.3184263606229635 w= [[1.79340756]] b= [-23.21948603]\n",
      "step 4800 error value= 0.3161031150155547 w= [[1.80079643]] b= [-23.31572396]\n",
      "step 5200 error value= 0.3138158690477593 w= [[1.80812794]] b= [-23.41121265]\n",
      "step 5600 error value= 0.3115637184558039 w= [[1.81540309]] b= [-23.50596522]\n",
      "step 6000 error value= 0.3093457913299672 w= [[1.82262286]] b= [-23.59999443]\n",
      "step 6400 error value= 0.30716124660095073 w= [[1.82978819]] b= [-23.69331267]\n",
      "step 6800 error value= 0.3050092726133744 w= [[1.83690001]] b= [-23.78593196]\n",
      "step 7200 error value= 0.30288908578064394 w= [[1.84395919]] b= [-23.87786403]\n",
      "step 7600 error value= 0.3007999293157486 w= [[1.85096663]] b= [-23.96912024]\n",
      "step 8000 error value= 0.29874107203264477 w= [[1.85792314]] b= [-24.05971167]\n",
      "step 8400 error value= 0.2967118072138668 w= [[1.86482957]] b= [-24.14964909]\n",
      "step 8800 error value= 0.2947114515398758 w= [[1.87168672]] b= [-24.23894299]\n",
      "step 9200 error value= 0.292739344076173 w= [[1.87849535]] b= [-24.32760358]\n",
      "step 9600 error value= 0.2907948453145935 w= [[1.88525623]] b= [-24.4156408]\n",
      "step 10000 error value= 0.2888773362652329 w= [[1.89197011]] b= [-24.50306435]\n"
     ]
    }
   ],
   "source": [
    "# 하이퍼파라미터 러닝레이트\n",
    "# learning_rate=1e-3\n",
    "learning_rate=1e-2\n",
    "f=lambda x: loss_func(x_data, t_data)\n",
    "\n",
    "print(\"Initial error value:\", loss_func(x_data, t_data), \"Initail w=\",w,\"Initali b=\",b)\n",
    "\n",
    "for step in range(10001):\n",
    "    w-=learning_rate*numerical_derivative(f,w)\n",
    "    b-=learning_rate*numerical_derivative(f,b)\n",
    "    \n",
    "    if step%400==0: #400번마다 출력\n",
    "        print(\"step\",step,\"error value=\",loss_func(x_data,t_data),\"w=\",w,\"b=\",b)"
   ]
  },
  {
   "cell_type": "code",
   "execution_count": 14,
   "id": "2d53e8c3-4713-4a00-9da7-380623fb234b",
   "metadata": {},
   "outputs": [
    {
     "name": "stdout",
     "output_type": "stream",
     "text": [
      "[[0.47201663]] 0\n"
     ]
    }
   ],
   "source": [
    "# ([2,4,6,8,10,12,14,16,18,20])\n",
    "# ([0,0,0,0,0,0,1,1,1,1]) (2 넣을 때 0나오고 20넣으면 나온다는 말)\n",
    "(real_val,logical_val)=predict(12.89185999999999)\n",
    "print(real_val,logical_val)"
   ]
  },
  {
   "cell_type": "code",
   "execution_count": null,
   "id": "6a09ad96-aa4f-4166-bedf-b524ffd998b8",
   "metadata": {},
   "outputs": [],
   "source": []
  }
 ],
 "metadata": {
  "kernelspec": {
   "display_name": "Python 3",
   "language": "python",
   "name": "python3"
  },
  "language_info": {
   "codemirror_mode": {
    "name": "ipython",
    "version": 3
   },
   "file_extension": ".py",
   "mimetype": "text/x-python",
   "name": "python",
   "nbconvert_exporter": "python",
   "pygments_lexer": "ipython3",
   "version": "3.8.8"
  }
 },
 "nbformat": 4,
 "nbformat_minor": 5
}
