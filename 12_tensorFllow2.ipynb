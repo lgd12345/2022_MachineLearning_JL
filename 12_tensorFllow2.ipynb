{
 "cells": [
  {
   "cell_type": "code",
   "execution_count": 1,
   "id": "80320271-03fe-4ffe-b37b-b2e52341f6df",
   "metadata": {},
   "outputs": [],
   "source": [
    "import tensorflow as tf"
   ]
  },
  {
   "cell_type": "code",
   "execution_count": 2,
   "id": "f7f121d5-c44a-4465-8e4e-af85bb423e7e",
   "metadata": {},
   "outputs": [
    {
     "data": {
      "text/plain": [
       "'2.10.0'"
      ]
     },
     "execution_count": 2,
     "metadata": {},
     "output_type": "execute_result"
    }
   ],
   "source": [
    "tf.__version__"
   ]
  },
  {
   "cell_type": "code",
   "execution_count": 3,
   "id": "86d631fd-f19b-4446-b7a1-2a910e5121a0",
   "metadata": {},
   "outputs": [
    {
     "name": "stdout",
     "output_type": "stream",
     "text": [
      "WARNING:tensorflow:From C:\\Users\\admin\\anaconda3\\lib\\site-packages\\tensorflow\\python\\compat\\v2_compat.py:107: disable_resource_variables (from tensorflow.python.ops.variable_scope) is deprecated and will be removed in a future version.\n",
      "Instructions for updating:\n",
      "non-resource variables are not supported in the long term\n"
     ]
    }
   ],
   "source": [
    "#잠깐동안 2버전을 1버전처럼 쓰게 하기\n",
    "import tensorflow.compat.v1 as tf\n",
    "tf.disable_v2_behavior()"
   ]
  },
  {
   "cell_type": "code",
   "execution_count": 4,
   "id": "9757ee42-baca-4f0b-b6fb-67f213f1eb8f",
   "metadata": {},
   "outputs": [],
   "source": [
    "tf.set_random_seed(777)"
   ]
  },
  {
   "cell_type": "code",
   "execution_count": 6,
   "id": "dd828e7c-d99a-4d06-8d7b-7cc8374f4d93",
   "metadata": {},
   "outputs": [],
   "source": [
    "x_data=[1,2,3,4,5]\n",
    "t_data=[2,3,4,5,6] #y=x+1"
   ]
  },
  {
   "cell_type": "code",
   "execution_count": 8,
   "id": "3febee4c-63a2-489a-b5f4-968c9ec6b3a9",
   "metadata": {},
   "outputs": [
    {
     "name": "stdout",
     "output_type": "stream",
     "text": [
      "w= <tf.Variable 'weight:0' shape=(1,) dtype=float32_ref> b= <tf.Variable 'bias:0' shape=(1,) dtype=float32_ref>\n"
     ]
    }
   ],
   "source": [
    "#머신러닝이니 임의의 값을 만들것이다.\n",
    "w=tf.Variable(tf.random.normal([1]),name='weight')\n",
    "b=tf.Variable(tf.random.normal([1]),name='bias')\n",
    "print('w=',w,\"b=\",b)"
   ]
  },
  {
   "cell_type": "code",
   "execution_count": 9,
   "id": "6fd2c44a-308d-4d73-b1c0-5481403d5cad",
   "metadata": {},
   "outputs": [],
   "source": [
    "y=x_data*w+b"
   ]
  },
  {
   "cell_type": "code",
   "execution_count": 10,
   "id": "fd77add4-c7f6-475a-b211-ebfc310c5253",
   "metadata": {},
   "outputs": [],
   "source": [
    "cost=tf.reduce_mean(tf.square(y-t_data))"
   ]
  },
  {
   "cell_type": "code",
   "execution_count": 11,
   "id": "30385b78-28aa-4b88-9d85-708539393893",
   "metadata": {},
   "outputs": [],
   "source": [
    "# 코스트를 최소화하면서 러닝메이트를 0.01...어쩌구 저쩌구..\n",
    "train=tf.train.GradientDescentOptimizer(learning_rate=0.01).minimize(cost)"
   ]
  },
  {
   "cell_type": "code",
   "execution_count": 13,
   "id": "5c17b354-63ea-4101-802f-d9ee1955f94b",
   "metadata": {},
   "outputs": [
    {
     "name": "stdout",
     "output_type": "stream",
     "text": [
      "0 11.72659 [0.8049774] [-1.0644361]\n",
      "200 0.16485164 [1.2627084] [0.0515394]\n",
      "400 0.042536832 [1.1334473] [0.518213]\n",
      "600 0.010975822 [1.0677868] [0.75526786]\n",
      "800 0.0028320907 [1.0344335] [0.87568414]\n",
      "1000 0.00073076633 [1.0174911] [0.9368517]\n",
      "1200 0.00018855717 [1.0088848] [0.967923]\n",
      "1400 4.8652928e-05 [1.0045131] [0.98370606]\n",
      "1600 1.2554138e-05 [1.0022926] [0.99172306]\n",
      "1800 3.240651e-06 [1.0011649] [0.9957947]\n",
      "2000 8.368479e-07 [1.000592] [0.9978631]\n",
      "2200 2.161559e-07 [1.0003008] [0.99891394]\n",
      "2400 5.588481e-08 [1.0001531] [0.99944776]\n",
      "2600 1.44876e-08 [1.000078] [0.99971884]\n",
      "2800 3.7714614e-09 [1.0000398] [0.9998566]\n",
      "3000 9.665115e-10 [1.0000201] [0.9999273]\n",
      "3200 2.6036345e-10 [1.0000105] [0.9999623]\n",
      "3400 8.098837e-11 [1.000006] [0.9999789]\n",
      "3600 2.8351366e-11 [1.0000036] [0.9999878]\n",
      "3800 2.8351366e-11 [1.0000036] [0.9999878]\n",
      "4000 2.8351366e-11 [1.0000036] [0.9999878]\n",
      "4200 2.8351366e-11 [1.0000036] [0.9999878]\n",
      "4400 2.8351366e-11 [1.0000036] [0.9999878]\n",
      "4600 2.8351366e-11 [1.0000036] [0.9999878]\n",
      "4800 2.8351366e-11 [1.0000036] [0.9999878]\n",
      "5000 2.8351366e-11 [1.0000036] [0.9999878]\n",
      "5200 2.8351366e-11 [1.0000036] [0.9999878]\n",
      "5400 2.8351366e-11 [1.0000036] [0.9999878]\n",
      "5600 2.8351366e-11 [1.0000036] [0.9999878]\n",
      "5800 2.8351366e-11 [1.0000036] [0.9999878]\n",
      "6000 2.8351366e-11 [1.0000036] [0.9999878]\n",
      "6200 2.8351366e-11 [1.0000036] [0.9999878]\n",
      "6400 2.8351366e-11 [1.0000036] [0.9999878]\n",
      "6600 2.8351366e-11 [1.0000036] [0.9999878]\n",
      "6800 2.8351366e-11 [1.0000036] [0.9999878]\n",
      "7000 2.8351366e-11 [1.0000036] [0.9999878]\n",
      "7200 2.8351366e-11 [1.0000036] [0.9999878]\n",
      "7400 2.8351366e-11 [1.0000036] [0.9999878]\n",
      "7600 2.8351366e-11 [1.0000036] [0.9999878]\n",
      "7800 2.8351366e-11 [1.0000036] [0.9999878]\n",
      "8000 2.8351366e-11 [1.0000036] [0.9999878]\n"
     ]
    }
   ],
   "source": [
    "# 글로벌 변수를 초기화 시킨다.\n",
    "with tf.Session() as sess:\n",
    "    sess.run(tf.global_variables_initializer())\n",
    "    #8000번 정도..    # _, : 무시한다.?\n",
    "    for step in range(8001):\n",
    "        _,cost_val, w_val, b_val=sess.run([train, cost, w, b]) #값을 받음\n",
    "        \n",
    "        if step % 200==0: # step 200증가할 때마다 출력 \n",
    "            print(step, cost_val, w_val, b_val)\n",
    "        "
   ]
  },
  {
   "cell_type": "code",
   "execution_count": null,
   "id": "18174baf-3ae1-41e5-a043-d4eb33857749",
   "metadata": {},
   "outputs": [],
   "source": []
  }
 ],
 "metadata": {
  "kernelspec": {
   "display_name": "Python 3",
   "language": "python",
   "name": "python3"
  },
  "language_info": {
   "codemirror_mode": {
    "name": "ipython",
    "version": 3
   },
   "file_extension": ".py",
   "mimetype": "text/x-python",
   "name": "python",
   "nbconvert_exporter": "python",
   "pygments_lexer": "ipython3",
   "version": "3.8.8"
  }
 },
 "nbformat": 4,
 "nbformat_minor": 5
}
