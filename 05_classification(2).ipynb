{
 "cells": [
  {
   "cell_type": "code",
   "execution_count": 1,
   "id": "3e502c01-ac1a-454c-837b-2a9afdf845a0",
   "metadata": {},
   "outputs": [],
   "source": [
    "import numpy as np"
   ]
  },
  {
   "cell_type": "code",
   "execution_count": 2,
   "id": "85d640bd-7779-43ff-8bd8-ff3d1679326d",
   "metadata": {},
   "outputs": [
    {
     "name": "stdout",
     "output_type": "stream",
     "text": [
      "[[ 2  4]\n",
      " [ 4 11]\n",
      " [ 6  6]\n",
      " [ 8  5]\n",
      " [10  7]\n",
      " [12 16]\n",
      " [14  8]\n",
      " [16  3]\n",
      " [18  7]]\n",
      "[[0]\n",
      " [0]\n",
      " [0]\n",
      " [0]\n",
      " [1]\n",
      " [1]\n",
      " [1]\n",
      " [1]\n",
      " [1]]\n"
     ]
    }
   ],
   "source": [
    "x_data = np.array([[2,4],[4,11],[6,6],[8,5],[10,7],[12,16],[14,8],[16,3],[18,7]])\n",
    "t_data = np.array([0,0,0,0,1,1,1,1,1]).reshape(9,1)\n",
    "\n",
    "print(x_data)\n",
    "print(t_data)"
   ]
  },
  {
   "cell_type": "code",
   "execution_count": 3,
   "id": "ea33a471-2fd1-44ff-96fb-0f471e120d65",
   "metadata": {},
   "outputs": [
    {
     "name": "stdout",
     "output_type": "stream",
     "text": [
      "w=  [[0.0285357 ]\n",
      " [0.52419502]] w.shape=  (2, 1) b=  [0.02466103] b.shape=  (1,)\n"
     ]
    }
   ],
   "source": [
    "w = np.random.rand(2,1) #2*1행열\n",
    "b = np.random.rand(1)\n",
    "print(\"w= \",w,\"w.shape= \",w.shape,\"b= \",b,\"b.shape= \",b.shape)"
   ]
  },
  {
   "cell_type": "code",
   "execution_count": 4,
   "id": "3c7141db-a4c8-4291-a402-f71cb6141761",
   "metadata": {},
   "outputs": [],
   "source": [
    "def sigmoid(x):\n",
    "    return 1/(1+np.exp(-x))"
   ]
  },
  {
   "cell_type": "code",
   "execution_count": 5,
   "id": "e47084f6-d601-4e90-8077-8b847603d1d6",
   "metadata": {},
   "outputs": [],
   "source": [
    "def loss_func(x, t):\n",
    "    delta = 1e-7 #log 무한대 발산 방지\n",
    "    \n",
    "    z=np.dot(x,w) + b\n",
    "    y=sigmoid(z)\n",
    "    \n",
    "    #cross-entropy\n",
    "    return -np.sum(t*np.log(y+delta)+(1-t)*np.log((1-y)+delta))"
   ]
  },
  {
   "cell_type": "code",
   "execution_count": 6,
   "id": "367ba79d-5cc3-48f9-bcc3-7c47f4b1c7b2",
   "metadata": {},
   "outputs": [],
   "source": [
    "def numerical_derivative(f, x): # 수치미분 debug version # Ctrl + A 모두 선택\n",
    "    delta_x = 1e-4 \n",
    "    grad = np.zeros_like(x)\n",
    "    \n",
    "#     print(\"debug 1. initial input variable =\", x)\n",
    "#     print(\"debug 2. initial input grad =\", grad)\n",
    "#     print(\"================================== =\")\n",
    "    \n",
    "    it = np.nditer(x, flags=['multi_index'], op_flags=['readwrite'])\n",
    "    while not it.finished:\n",
    "        idx=it.multi_index\n",
    "        \n",
    "#         print(\"debug 3, idx=\",idx,\",x[idx]=\",x[idx])\n",
    "        \n",
    "        tmp_val = x[idx]\n",
    "        x[idx]=float(tmp_val)+delta_x\n",
    "        fx1=f(x) #f(x+delta_x)\n",
    "        \n",
    "        x[idx] = tmp_val - delta_x\n",
    "        fx2 = f(x) # f(x-delta_x)\n",
    "        grad[idx]=(fx1-fx2)/(2*delta_x)\n",
    "        \n",
    "#         print(\"debug 4. grad[idx] =\",grad[idx])\n",
    "#         print(\"debug 5. grad = \", grad)\n",
    "#         print(\"=================================\")\n",
    "        \n",
    "        x[idx] = tmp_val\n",
    "        it.iternext() \n",
    "    return grad"
   ]
  },
  {
   "cell_type": "code",
   "execution_count": 7,
   "id": "3a0e7ef9-d70b-450e-8c67-a2cb12c670d3",
   "metadata": {},
   "outputs": [],
   "source": [
    "def predict(x):\n",
    "    z=np.dot(x,w) + b\n",
    "    y=sigmoid(z)\n",
    "    \n",
    "    if y>0.5:\n",
    "        result=1 #true\n",
    "    else:\n",
    "        result=0 #False\n",
    "    return y,result"
   ]
  },
  {
   "cell_type": "code",
   "execution_count": 66,
   "id": "596b5f03-3414-4c3a-83ac-efcbc0e1ffec",
   "metadata": {},
   "outputs": [
    {
     "name": "stdout",
     "output_type": "stream",
     "text": [
      "Initial error value: 0.4412720137285218 Initail w= [[1.22895056]\n",
      " [0.27483202]] Initali b= [-12.63271001]\n",
      "step 0 error value= 0.44127170460043574 w= [[1.22895098]\n",
      " [0.27483231]] b= [-12.63271554]\n",
      "step 1000 error value= 0.44096280953042544 w= [[1.22936754]\n",
      " [0.27512809]] b= [-12.63824994]\n",
      "step 2000 error value= 0.440654379214315 w= [[1.22978371]\n",
      " [0.27542376]] b= [-12.64378016]\n",
      "step 3000 error value= 0.44034641243832223 w= [[1.23019949]\n",
      " [0.27571934]] b= [-12.64930623]\n",
      "step 4000 error value= 0.44003890799352663 w= [[1.23061489]\n",
      " [0.27601482]] b= [-12.65482815]\n",
      "step 5000 error value= 0.4397318646758476 w= [[1.23102989]\n",
      " [0.2763102 ]] b= [-12.66034593]\n",
      "step 6000 error value= 0.4394252812860189 w= [[1.23144451]\n",
      " [0.27660548]] b= [-12.66585957]\n",
      "step 7000 error value= 0.43911915662956186 w= [[1.23185875]\n",
      " [0.27690066]] b= [-12.67136909]\n",
      "step 8000 error value= 0.43881348951675603 w= [[1.2322726 ]\n",
      " [0.27719575]] b= [-12.67687448]\n",
      "step 9000 error value= 0.438508278762623 w= [[1.23268606]\n",
      " [0.27749073]] b= [-12.68237576]\n",
      "step 10000 error value= 0.43820352318688693 w= [[1.23309915]\n",
      " [0.27778562]] b= [-12.68787294]\n",
      "step 11000 error value= 0.4378992216139693 w= [[1.23351185]\n",
      " [0.2780804 ]] b= [-12.69336602]\n",
      "step 12000 error value= 0.43759537287294414 w= [[1.23392417]\n",
      " [0.27837508]] b= [-12.69885501]\n",
      "step 13000 error value= 0.4372919757975242 w= [[1.23433611]\n",
      " [0.27866967]] b= [-12.70433992]\n",
      "step 14000 error value= 0.4369890292260307 w= [[1.23474767]\n",
      " [0.27896415]] b= [-12.70982076]\n",
      "step 15000 error value= 0.43668653200137586 w= [[1.23515886]\n",
      " [0.27925853]] b= [-12.71529752]\n",
      "step 16000 error value= 0.43638448297102855 w= [[1.23556967]\n",
      " [0.27955281]] b= [-12.72077023]\n",
      "step 17000 error value= 0.4360828809870037 w= [[1.2359801 ]\n",
      " [0.27984699]] b= [-12.72623889]\n",
      "step 18000 error value= 0.43578172490582345 w= [[1.23639016]\n",
      " [0.28014107]] b= [-12.7317035]\n",
      "step 19000 error value= 0.4354810135885059 w= [[1.23679984]\n",
      " [0.28043505]] b= [-12.73716407]\n",
      "step 20000 error value= 0.43518074590053085 w= [[1.23720915]\n",
      " [0.28072892]] b= [-12.74262061]\n",
      "step 21000 error value= 0.4348809207118244 w= [[1.23761809]\n",
      " [0.28102269]] b= [-12.74807313]\n",
      "step 22000 error value= 0.43458153689672957 w= [[1.23802665]\n",
      " [0.28131637]] b= [-12.75352163]\n",
      "step 23000 error value= 0.434282593333988 w= [[1.23843485]\n",
      " [0.28160993]] b= [-12.75896613]\n",
      "step 24000 error value= 0.4339840889067137 w= [[1.23884267]\n",
      " [0.2819034 ]] b= [-12.76440662]\n",
      "step 25000 error value= 0.4336860225023702 w= [[1.23925013]\n",
      " [0.28219676]] b= [-12.76984312]\n",
      "step 26000 error value= 0.43338839301274973 w= [[1.23965722]\n",
      " [0.28249002]] b= [-12.77527563]\n",
      "step 27000 error value= 0.43309119933394563 w= [[1.24006394]\n",
      " [0.28278318]] b= [-12.78070417]\n",
      "step 28000 error value= 0.43279444036633763 w= [[1.2404703 ]\n",
      " [0.28307623]] b= [-12.78612873]\n",
      "step 29000 error value= 0.43249811501456586 w= [[1.24087629]\n",
      " [0.28336918]] b= [-12.79154932]\n",
      "step 30000 error value= 0.43220222218750093 w= [[1.24128192]\n",
      " [0.28366202]] b= [-12.79696596]\n"
     ]
    }
   ],
   "source": [
    "# 하이퍼파라미터 러닝레이트\n",
    "learning_rate=1e-4\n",
    "f=lambda x: loss_func(x_data, t_data)\n",
    "\n",
    "print(\"Initial error value:\", loss_func(x_data, t_data), \"Initail w=\",w,\"Initali b=\",b)\n",
    "\n",
    "for step in range(30001):\n",
    "    w-=learning_rate*numerical_derivative(f,w)\n",
    "    b-=learning_rate*numerical_derivative(f,b)\n",
    "    \n",
    "    if step%1000==0: #1000번마다 출력 error value 가 - 나오면 잘 못 된 것 봐야할 것은 error value를 봐야함0에 가까울 수록 좋은 것\n",
    "        print(\"step\",step,\"error value=\",loss_func(x_data,t_data),\"w=\",w,\"b=\",b)"
   ]
  },
  {
   "cell_type": "code",
   "execution_count": 65,
   "id": "a20e73fc-5b50-402f-becd-9067636a2180",
   "metadata": {},
   "outputs": [
    {
     "name": "stdout",
     "output_type": "stream",
     "text": [
      "[0.51919985] 1\n"
     ]
    }
   ],
   "source": [
    "# ([2,4,6,8,10,12,14,16,18,20])\n",
    "# ([0,0,0,0,0,0,1,1,1,1]) (2 넣을 때 0나오고 20넣으면 나온다는 말)\n",
    "(real_val,logical_val)=predict([9,6])\n",
    "print(real_val,logical_val)"
   ]
  },
  {
   "cell_type": "code",
   "execution_count": null,
   "id": "05ed86a2-8a16-4c3a-9e4d-5ae020609fa5",
   "metadata": {},
   "outputs": [],
   "source": []
  }
 ],
 "metadata": {
  "kernelspec": {
   "display_name": "Python 3",
   "language": "python",
   "name": "python3"
  },
  "language_info": {
   "codemirror_mode": {
    "name": "ipython",
    "version": 3
   },
   "file_extension": ".py",
   "mimetype": "text/x-python",
   "name": "python",
   "nbconvert_exporter": "python",
   "pygments_lexer": "ipython3",
   "version": "3.8.8"
  }
 },
 "nbformat": 4,
 "nbformat_minor": 5
}
