{
 "cells": [
  {
   "cell_type": "code",
   "execution_count": 1,
   "id": "2ba2b7a3-0b85-42d4-aedf-0547d58db72b",
   "metadata": {},
   "outputs": [],
   "source": [
    "import numpy as np"
   ]
  },
  {
   "cell_type": "code",
   "execution_count": 2,
   "id": "5db73492-1d01-466a-8bef-b411dd3ead31",
   "metadata": {},
   "outputs": [],
   "source": [
    "x_data=np.array([1,2,3,4,5]).reshape(5,1)\n",
    "# t_data=np.array([3,4,5,6,7]).reshape(5,1) #y=x+2, w=1, b=2\n",
    "t_data=np.array([11,21,31,41,51]).reshape(5,1) #y=10x+1, w=10, b=2"
   ]
  },
  {
   "cell_type": "code",
   "execution_count": 3,
   "id": "25c97314-0731-4bb4-b94d-5cf839892fa2",
   "metadata": {},
   "outputs": [
    {
     "name": "stdout",
     "output_type": "stream",
     "text": [
      "[[0.58911701]] [0.63884961]\n"
     ]
    }
   ],
   "source": [
    "w=np.random.rand(1,1)\n",
    "b=np.random.rand(1)\n",
    "print(w,b)"
   ]
  },
  {
   "cell_type": "code",
   "execution_count": 4,
   "id": "1b7e0610-5e49-4bd3-8901-3b9c8176cc5f",
   "metadata": {},
   "outputs": [],
   "source": [
    "def loss_func(x,t):\n",
    "    y=np.dot(x,w)+b\n",
    "    return (np.sum((t-y)**2))/len(x)"
   ]
  },
  {
   "cell_type": "code",
   "execution_count": 5,
   "id": "aea11077-ced3-4045-a602-e51b7f6ae7ac",
   "metadata": {},
   "outputs": [],
   "source": [
    "def numerical_derivative(f, x): # 수치미분 debug version # Ctrl + A 모두 선택\n",
    "    delta_x = 1e-4 \n",
    "    grad = np.zeros_like(x)\n",
    "    \n",
    "#     print(\"debug 1. initial input variable =\", x)\n",
    "#     print(\"debug 2. initial input grad =\", grad)\n",
    "#     print(\"================================== =\")\n",
    "    \n",
    "    it = np.nditer(x, flags=['multi_index'], op_flags=['readwrite'])\n",
    "    while not it.finished:\n",
    "        idx=it.multi_index\n",
    "        \n",
    "#         print(\"debug 3, idx=\",idx,\",x[idx]=\",x[idx])\n",
    "        \n",
    "        tmp_val = x[idx]\n",
    "        x[idx]=float(tmp_val)+delta_x\n",
    "        fx1=f(x) #f(x+delta_x)\n",
    "        \n",
    "        x[idx] = tmp_val - delta_x\n",
    "        fx2 = f(x) # f(x-delta_x)\n",
    "        grad[idx]=(fx1-fx2)/(2*delta_x)\n",
    "        \n",
    "#         print(\"debug 4. grad[idx] =\",grad[idx])\n",
    "#         print(\"debug 5. grad = \", grad)\n",
    "#         print(\"=================================\")\n",
    "        \n",
    "        x[idx] = tmp_val\n",
    "        it.iternext() \n",
    "    return grad"
   ]
  },
  {
   "cell_type": "code",
   "execution_count": 6,
   "id": "0c43fcc9-ca69-47bc-82b5-58aa812b3b48",
   "metadata": {},
   "outputs": [],
   "source": [
    "#예측함수\n",
    "def predict(x):\n",
    "    y=np.dot(x,w)+b\n",
    "    return y"
   ]
  },
  {
   "cell_type": "code",
   "execution_count": 7,
   "id": "5f959e61-30db-4bea-a5c9-ca345208bc24",
   "metadata": {},
   "outputs": [
    {
     "name": "stdout",
     "output_type": "stream",
     "text": [
      "Initial error value: 994.7347986706751 Initail w= [[0.58911701]] Initali b= [0.63884961]\n",
      "step 0 error value= 585.4821406048148 w= [[2.68118029]] b= [1.0852018]\n",
      "step 400 error value= 0.028724408172318895 w= [[9.88994183]] b= [1.39724765]\n",
      "step 800 error value= 0.001832787059316794 w= [[9.97219949]] b= [1.10034409]\n",
      "step 1200 error value= 0.00011694264977157717 w= [[9.99297764]] b= [1.02534675]\n",
      "step 1600 error value= 7.4616324171899006e-06 w= [[9.99822616]] b= [1.00640255]\n",
      "step 2000 error value= 4.7609626118810894e-07 w= [[9.99955193]] b= [1.00161727]\n",
      "step 2400 error value= 3.0377756131796206e-08 w= [[9.99988682]] b= [1.00040852]\n",
      "step 2800 error value= 1.9382804336978267e-09 w= [[9.99997141]] b= [1.00010319]\n",
      "step 3200 error value= 1.2367375070107657e-10 w= [[9.99999278]] b= [1.00002607]\n",
      "step 3600 error value= 7.891116457071518e-12 w= [[9.99999818]] b= [1.00000658]\n",
      "step 4000 error value= 5.034998822804659e-13 w= [[9.99999954]] b= [1.00000166]\n",
      "step 4400 error value= 3.2126269184528084e-14 w= [[9.99999988]] b= [1.00000042]\n",
      "step 4800 error value= 2.0498460404329047e-15 w= [[9.99999997]] b= [1.00000011]\n",
      "step 5200 error value= 1.3079230192354056e-16 w= [[9.99999999]] b= [1.00000003]\n",
      "step 5600 error value= 8.345319083769102e-18 w= [[10.]] b= [1.00000001]\n",
      "step 6000 error value= 5.324800057101479e-19 w= [[10.]] b= [1.]\n",
      "step 6400 error value= 3.3974941768533e-20 w= [[10.]] b= [1.]\n",
      "step 6800 error value= 2.167708337538171e-21 w= [[10.]] b= [1.]\n",
      "step 7200 error value= 1.384391616809901e-22 w= [[10.]] b= [1.]\n",
      "step 7600 error value= 8.859730905328289e-24 w= [[10.]] b= [1.]\n",
      "step 8000 error value= 5.756690367744987e-25 w= [[10.]] b= [1.]\n",
      "step 8400 error value= 3.753273969296739e-26 w= [[10.]] b= [1.]\n",
      "step 8800 error value= 3.898235049240152e-27 w= [[10.]] b= [1.]\n",
      "step 9200 error value= 1.751902298314823e-27 w= [[10.]] b= [1.]\n",
      "step 9600 error value= 1.751902298314823e-27 w= [[10.]] b= [1.]\n",
      "step 10000 error value= 1.751902298314823e-27 w= [[10.]] b= [1.]\n"
     ]
    }
   ],
   "source": [
    "# 하이퍼파라미터 러닝레이트\n",
    "# learning_rate=1e-3\n",
    "learning_rate=1e-2\n",
    "f=lambda x: loss_func(x_data, t_data)\n",
    "\n",
    "print(\"Initial error value:\", loss_func(x_data, t_data), \"Initail w=\",w,\"Initali b=\",b)\n",
    "\n",
    "for step in range(10001):\n",
    "    w-=learning_rate*numerical_derivative(f,w)\n",
    "    b-=learning_rate*numerical_derivative(f,b)\n",
    "    \n",
    "    if step%400==0:\n",
    "        print(\"step\",step,\"error value=\",loss_func(x_data,t_data),\"w=\",w,\"b=\",b)"
   ]
  },
  {
   "cell_type": "code",
   "execution_count": 8,
   "id": "6e8b251b-d95f-4220-ad28-17eb3fbf5699",
   "metadata": {},
   "outputs": [
    {
     "data": {
      "text/plain": [
       "array([[101.]])"
      ]
     },
     "execution_count": 8,
     "metadata": {},
     "output_type": "execute_result"
    }
   ],
   "source": [
    "predict(10) # y=x+2  # y=10x+1"
   ]
  },
  {
   "cell_type": "code",
   "execution_count": null,
   "id": "28ab68db-069a-4240-bb3c-26f256ea8165",
   "metadata": {},
   "outputs": [],
   "source": []
  }
 ],
 "metadata": {
  "kernelspec": {
   "display_name": "Python 3",
   "language": "python",
   "name": "python3"
  },
  "language_info": {
   "codemirror_mode": {
    "name": "ipython",
    "version": 3
   },
   "file_extension": ".py",
   "mimetype": "text/x-python",
   "name": "python",
   "nbconvert_exporter": "python",
   "pygments_lexer": "ipython3",
   "version": "3.8.8"
  }
 },
 "nbformat": 4,
 "nbformat_minor": 5
}
