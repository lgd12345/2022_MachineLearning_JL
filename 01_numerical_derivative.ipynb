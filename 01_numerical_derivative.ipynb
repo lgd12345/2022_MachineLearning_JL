{
 "cells": [
  {
   "cell_type": "code",
   "execution_count": 1,
   "id": "d1ec4da3-b635-4f21-ad36-e4b7bda71c71",
   "metadata": {},
   "outputs": [],
   "source": [
    "import numpy as np"
   ]
  },
  {
   "cell_type": "code",
   "execution_count": 2,
   "id": "2544fc58-ca25-4e07-8ef9-b503c47d9910",
   "metadata": {},
   "outputs": [],
   "source": [
    "def my_func1(x):\n",
    "    return x**2"
   ]
  },
  {
   "cell_type": "code",
   "execution_count": 3,
   "id": "f65fc0c5-766c-4b47-9d60-d475b54428bb",
   "metadata": {},
   "outputs": [],
   "source": [
    "# 미분할것임"
   ]
  },
  {
   "cell_type": "code",
   "execution_count": 4,
   "id": "6a07ee96-c927-4333-b6a2-0ec0504440d0",
   "metadata": {},
   "outputs": [],
   "source": [
    "def numerical_drivative(f, x):\n",
    "    delta_x=1e-4\n",
    "    return (f(x+delta_x)-f(x-delta_x))/(2*delta_x)"
   ]
  },
  {
   "cell_type": "code",
   "execution_count": 5,
   "id": "35433f14-aa1e-4181-ab91-76226bb5fe32",
   "metadata": {},
   "outputs": [
    {
     "name": "stdout",
     "output_type": "stream",
     "text": [
      "result= 6.000000000012662\n"
     ]
    }
   ],
   "source": [
    "result=numerical_drivative(my_func1,3)\n",
    "print(\"result=\",result)"
   ]
  },
  {
   "cell_type": "code",
   "execution_count": 6,
   "id": "e1c65302-d957-4a90-86f9-9e1a83466aad",
   "metadata": {},
   "outputs": [],
   "source": [
    "# 수치 미분"
   ]
  },
  {
   "cell_type": "code",
   "execution_count": 7,
   "id": "ccb1152e-efdb-4e74-9815-538571124ff7",
   "metadata": {},
   "outputs": [],
   "source": [
    "import numpy as np\n",
    "\n",
    "def my_func2(x):\n",
    "    return 3*x*(np.exp(x))"
   ]
  },
  {
   "cell_type": "code",
   "execution_count": 8,
   "id": "688fe552-5767-4fbb-9116-88a44518dcff",
   "metadata": {},
   "outputs": [
    {
     "name": "stdout",
     "output_type": "stream",
     "text": [
      "result == 66.50150507518049\n"
     ]
    }
   ],
   "source": [
    "result2=numerical_drivative(my_func2,2)\n",
    "print(\"result ==\", result2)"
   ]
  },
  {
   "cell_type": "code",
   "execution_count": 9,
   "id": "b1dd0607-99e4-4f1f-95c7-82b01b0051ef",
   "metadata": {},
   "outputs": [],
   "source": [
    "def numerical_derivative(f, x): # 수치미분 debug version\n",
    "    delta_x = 1e-4 \n",
    "    grad = np.zeros_like(x)\n",
    "    \n",
    "    print(\"debug 1. initial input variable =\", x)\n",
    "    print(\"debug 2. initial input grad =\", grad)\n",
    "    print(\"================================== =\")\n",
    "    \n",
    "    it = np.nditer(x, flags=['multi_index'], op_flags=['readwrite'])\n",
    "    while not it.finished:\n",
    "        idx=it.multi_index\n",
    "        \n",
    "        print(\"debug 3, idx=\",idx,\",x[idx]=\",x[idx])\n",
    "        \n",
    "        tmp_val = x[idx]\n",
    "        x[idx]=float(tmp_val)+delta_x\n",
    "        fx1=f(x) #f(x+delta_x)\n",
    "        \n",
    "        x[idx] = tmp_val - delta_x\n",
    "        fx2 = f(x) # f(x-delta_x)\n",
    "        grad[idx]=(fx1-fx2)/(2*delta_x)\n",
    "        \n",
    "        print(\"debug 4. grad[idx] =\",grad[idx])\n",
    "        print(\"debug 5. grad = \", grad)\n",
    "        print(\"=================================\")\n",
    "        \n",
    "        x[idx] = tmp_val\n",
    "        it.iternext() \n",
    "    return grad\n",
    "        "
   ]
  },
  {
   "cell_type": "code",
   "execution_count": 10,
   "id": "835b8432-084e-4a45-b18a-059a08c25c23",
   "metadata": {},
   "outputs": [],
   "source": [
    "def func2(input_obj):\n",
    "    x=input_obj[0]\n",
    "    y=input_obj[1]\n",
    "    return (2*x + 3*x*y + np.power(y,3)) #2x + 3xy + y**3"
   ]
  },
  {
   "cell_type": "code",
   "execution_count": 11,
   "id": "fcfe72b3-34ec-40c7-a973-5e00248c74d7",
   "metadata": {},
   "outputs": [
    {
     "name": "stdout",
     "output_type": "stream",
     "text": [
      "debug 1. initial input variable = [3. 2.]\n",
      "debug 2. initial input grad = [0. 0.]\n",
      "================================== =\n",
      "debug 3, idx= (0,) ,x[idx]= 3.0\n",
      "debug 4. grad[idx] = 7.999999999999119\n",
      "debug 5. grad =  [8. 0.]\n",
      "=================================\n",
      "debug 3, idx= (1,) ,x[idx]= 2.0\n",
      "debug 4. grad[idx] = 21.000000010040765\n",
      "debug 5. grad =  [ 8.         21.00000001]\n",
      "=================================\n"
     ]
    },
    {
     "data": {
      "text/plain": [
       "array([ 8.        , 21.00000001])"
      ]
     },
     "execution_count": 11,
     "metadata": {},
     "output_type": "execute_result"
    }
   ],
   "source": [
    "numerical_derivative(func2, np.array([3.0,2.0]))"
   ]
  },
  {
   "cell_type": "code",
   "execution_count": 12,
   "id": "65a508be-a763-4e4d-a380-e00c782c1562",
   "metadata": {},
   "outputs": [],
   "source": [
    "def func3(input_obj):\n",
    "    w=input_obj[0]\n",
    "    x=input_obj[1]\n",
    "    y=input_obj[2]\n",
    "    z=input_obj[3]\n",
    "    return (w*x + x*y*z + 3*w + z*np.power(y,2)) #wx + xyz +3w +y**2"
   ]
  },
  {
   "cell_type": "code",
   "execution_count": 13,
   "id": "a75577ab-9d3e-4b68-a8d2-c881810f29dc",
   "metadata": {},
   "outputs": [
    {
     "name": "stdout",
     "output_type": "stream",
     "text": [
      "debug 1. initial input variable = [3. 2.]\n",
      "debug 2. initial input grad = [0. 0.]\n",
      "================================== =\n",
      "debug 3, idx= (0,) ,x[idx]= 3.0\n",
      "debug 4. grad[idx] = 7.999999999999119\n",
      "debug 5. grad =  [8. 0.]\n",
      "=================================\n",
      "debug 3, idx= (1,) ,x[idx]= 2.0\n",
      "debug 4. grad[idx] = 21.000000010040765\n",
      "debug 5. grad =  [ 8.         21.00000001]\n",
      "=================================\n"
     ]
    },
    {
     "data": {
      "text/plain": [
       "array([ 8.        , 21.00000001])"
      ]
     },
     "execution_count": 13,
     "metadata": {},
     "output_type": "execute_result"
    }
   ],
   "source": [
    "numerical_derivative(func2,np.array([3.0,2.0]))"
   ]
  },
  {
   "cell_type": "code",
   "execution_count": 14,
   "id": "0a350734-8258-4250-b7ff-13dbf2613abd",
   "metadata": {},
   "outputs": [
    {
     "name": "stdout",
     "output_type": "stream",
     "text": [
      "debug 1. initial input variable = [3. 2. 3. 4.]\n",
      "debug 2. initial input grad = [0. 0. 0. 0.]\n",
      "================================== =\n",
      "debug 3, idx= (0,) ,x[idx]= 3.0\n",
      "debug 4. grad[idx] = 5.000000000023874\n",
      "debug 5. grad =  [5. 0. 0. 0.]\n",
      "=================================\n",
      "debug 3, idx= (1,) ,x[idx]= 2.0\n",
      "debug 4. grad[idx] = 15.000000000000568\n",
      "debug 5. grad =  [ 5. 15.  0.  0.]\n",
      "=================================\n",
      "debug 3, idx= (2,) ,x[idx]= 3.0\n",
      "debug 4. grad[idx] = 31.999999999996476\n",
      "debug 5. grad =  [ 5. 15. 32.  0.]\n",
      "=================================\n",
      "debug 3, idx= (3,) ,x[idx]= 4.0\n",
      "debug 4. grad[idx] = 15.000000000000568\n",
      "debug 5. grad =  [ 5. 15. 32. 15.]\n",
      "=================================\n"
     ]
    },
    {
     "data": {
      "text/plain": [
       "array([ 5., 15., 32., 15.])"
      ]
     },
     "execution_count": 14,
     "metadata": {},
     "output_type": "execute_result"
    }
   ],
   "source": [
    "numerical_derivative(func3,np.array([3.0,2.0,3.0,4.0]))"
   ]
  },
  {
   "cell_type": "code",
   "execution_count": 15,
   "id": "4a815326-716b-4285-8bf1-eb8470129615",
   "metadata": {},
   "outputs": [
    {
     "name": "stdout",
     "output_type": "stream",
     "text": [
      "debug 1. initial input variable = [3.]\n",
      "debug 2. initial input grad = [0.]\n",
      "================================== =\n",
      "debug 3, idx= (0,) ,x[idx]= 3.0\n",
      "debug 4. grad[idx] = 6.000000000012662\n",
      "debug 5. grad =  [6.]\n",
      "=================================\n"
     ]
    },
    {
     "data": {
      "text/plain": [
       "array([6.])"
      ]
     },
     "execution_count": 15,
     "metadata": {},
     "output_type": "execute_result"
    }
   ],
   "source": [
    "numerical_derivative(my_func1,np.array([3.0]))"
   ]
  },
  {
   "cell_type": "code",
   "execution_count": null,
   "id": "c9879781-8f92-4733-95b1-b2ab1421efea",
   "metadata": {},
   "outputs": [],
   "source": []
  }
 ],
 "metadata": {
  "kernelspec": {
   "display_name": "Python 3",
   "language": "python",
   "name": "python3"
  },
  "language_info": {
   "codemirror_mode": {
    "name": "ipython",
    "version": 3
   },
   "file_extension": ".py",
   "mimetype": "text/x-python",
   "name": "python",
   "nbconvert_exporter": "python",
   "pygments_lexer": "ipython3",
   "version": "3.8.8"
  }
 },
 "nbformat": 4,
 "nbformat_minor": 5
}
