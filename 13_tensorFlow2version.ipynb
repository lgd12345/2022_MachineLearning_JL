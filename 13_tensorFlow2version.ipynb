{
 "cells": [
  {
   "cell_type": "code",
   "execution_count": 1,
   "id": "363b841e-40b4-4b64-bbe8-9d730b91b499",
   "metadata": {},
   "outputs": [],
   "source": [
    "import tensorflow as tf"
   ]
  },
  {
   "cell_type": "code",
   "execution_count": 2,
   "id": "2cb1522a-aec9-49fc-b973-a7e9cd2ce967",
   "metadata": {},
   "outputs": [
    {
     "data": {
      "text/plain": [
       "'2.10.0'"
      ]
     },
     "execution_count": 2,
     "metadata": {},
     "output_type": "execute_result"
    }
   ],
   "source": [
    "tf.__version__"
   ]
  },
  {
   "cell_type": "code",
   "execution_count": 3,
   "id": "a8721865-04da-4d21-8b1f-44a841874304",
   "metadata": {},
   "outputs": [],
   "source": [
    "a= tf.constant(1.0)\n",
    "b= tf.constant(2.0)\n",
    "c= a+b"
   ]
  },
  {
   "cell_type": "code",
   "execution_count": 9,
   "id": "c777e2e1-89fc-4caa-b13b-5f9eb8e48155",
   "metadata": {},
   "outputs": [
    {
     "name": "stdout",
     "output_type": "stream",
     "text": [
      "tf.Tensor(3.0, shape=(), dtype=float32)\n"
     ]
    }
   ],
   "source": [
    "print(c) #텐서 확인"
   ]
  },
  {
   "cell_type": "code",
   "execution_count": 4,
   "id": "3d2068ba-8603-4f6b-bd1f-6bfd2589b07a",
   "metadata": {},
   "outputs": [
    {
     "name": "stdout",
     "output_type": "stream",
     "text": [
      "3.0\n"
     ]
    }
   ],
   "source": [
    "#결과를 넘파이(numpy)를 이용해서 바로 꺼낼 수 있다.\n",
    "print(c.numpy())"
   ]
  },
  {
   "cell_type": "code",
   "execution_count": null,
   "id": "678a2083-477c-4bcb-b04f-d1e270feabac",
   "metadata": {},
   "outputs": [],
   "source": []
  }
 ],
 "metadata": {
  "kernelspec": {
   "display_name": "Python 3",
   "language": "python",
   "name": "python3"
  },
  "language_info": {
   "codemirror_mode": {
    "name": "ipython",
    "version": 3
   },
   "file_extension": ".py",
   "mimetype": "text/x-python",
   "name": "python",
   "nbconvert_exporter": "python",
   "pygments_lexer": "ipython3",
   "version": "3.8.8"
  }
 },
 "nbformat": 4,
 "nbformat_minor": 5
}
